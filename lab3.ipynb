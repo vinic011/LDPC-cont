{
 "cells": [
  {
   "cell_type": "code",
   "execution_count": null,
   "metadata": {},
   "outputs": [],
   "source": [
    "import ldpc_graph_refactor as ldpc\n",
    "from comsys import ComSys\n",
    "import numpy as np\n",
    "import gaussian_channel\n",
    "import parity_matrix\n",
    "import pandas as pd\n",
    "from joblib import Parallel, delayed\n",
    "import matplotlib.pyplot as plt"
   ]
  },
  {
   "cell_type": "code",
   "execution_count": null,
   "metadata": {},
   "outputs": [],
   "source": [
    "# teste\n",
    "# x=np.zeros((100,1001))\n",
    "# y=channel(x)\n",
    "# llr=channel.llr(y)\n",
    "# x=np.zeros((1000,1001))\n",
    "# probs = []\n",
    "# for snr in np.arange(0,5.1,0.5):\n",
    "#     channel = gaussian_channel.Gaussian_Channel(snr)\n",
    "#     sys=ComSys(channel,graph)\n",
    "#     probs.append(sys(x))\n"
   ]
  },
  {
   "cell_type": "code",
   "execution_count": null,
   "metadata": {},
   "outputs": [],
   "source": [
    "x=np.zeros((2000,1001))\n",
    "H=parity_matrix.generate_matrix(1001,3,7)"
   ]
  },
  {
   "cell_type": "code",
   "execution_count": null,
   "metadata": {},
   "outputs": [],
   "source": [
    "#np.savetxt(\"H.csv\",H, delimiter=\",\")"
   ]
  },
  {
   "cell_type": "markdown",
   "metadata": {},
   "source": [
    "### Sempre usar mesmo H"
   ]
  },
  {
   "cell_type": "code",
   "execution_count": null,
   "metadata": {},
   "outputs": [],
   "source": [
    "H = pd.read_csv(\"H.csv\",header=None).values"
   ]
  },
  {
   "cell_type": "markdown",
   "metadata": {},
   "source": [
    "### Rodar uma vez não paralelo para conseguir o graph"
   ]
  },
  {
   "cell_type": "code",
   "execution_count": null,
   "metadata": {},
   "outputs": [],
   "source": [
    "graph=ldpc.from_matrix(H,100)\n",
    "channel = gaussian_channel.Gaussian_Channel(0.5)\n",
    "sys=ComSys(channel,graph)\n",
    "p = sys(x)"
   ]
  },
  {
   "cell_type": "markdown",
   "metadata": {},
   "source": [
    "### Baixar o graph"
   ]
  },
  {
   "cell_type": "code",
   "execution_count": null,
   "metadata": {},
   "outputs": [],
   "source": [
    "vec = []\n",
    "for v_node in graph.v:\n",
    "    indexes = [edge.idx_c for edge in v_node.edges]\n",
    "    vec.append(indexes)\n",
    "#pd.DataFrame(vec).to_csv(\"graph.csv\",index=False,header=False)"
   ]
  },
  {
   "cell_type": "markdown",
   "metadata": {},
   "source": [
    "### Rodar em paralelo a extração"
   ]
  },
  {
   "cell_type": "code",
   "execution_count": null,
   "metadata": {},
   "outputs": [],
   "source": [
    "def process(snr):\n",
    "    graph=ldpc.from_matrix(H,100)\n",
    "    channel = gaussian_channel.Gaussian_Channel(snr)\n",
    "    sys=ComSys(channel,graph)\n",
    "    return snr,sys(x)"
   ]
  },
  {
   "cell_type": "code",
   "execution_count": 29,
   "metadata": {},
   "outputs": [],
   "source": [
    "probs_snr = Parallel(n_jobs=10)(delayed(process)(snr) for snr in np.arange(0,5.1,0.5))"
   ]
  },
  {
   "cell_type": "markdown",
   "metadata": {},
   "source": [
    "## Plotar resultado"
   ]
  },
  {
   "cell_type": "code",
   "execution_count": null,
   "metadata": {},
   "outputs": [],
   "source": [
    "snrs = [p[0] for p in probs_snr]\n",
    "probs = [p[1] for p in probs_snr]"
   ]
  },
  {
   "cell_type": "code",
   "execution_count": null,
   "metadata": {},
   "outputs": [],
   "source": [
    "fig = plt.figure(figsize=(10, 10))\n",
    "ax = fig.add_subplot(2, 1, 1)\n",
    "line, = ax.plot(snrs, probs)\n",
    "ax.set_ylabel('Bit error prob')\n",
    "ax.set_xlabel('SNR')\n",
    "ax.set_yscale('log')\n",
    "fig;"
   ]
  },
  {
   "cell_type": "code",
   "execution_count": null,
   "metadata": {},
   "outputs": [],
   "source": []
  },
  {
   "cell_type": "code",
   "execution_count": null,
   "metadata": {},
   "outputs": [],
   "source": []
  },
  {
   "cell_type": "code",
   "execution_count": null,
   "metadata": {},
   "outputs": [],
   "source": []
  },
  {
   "cell_type": "code",
   "execution_count": null,
   "metadata": {},
   "outputs": [],
   "source": []
  },
  {
   "cell_type": "code",
   "execution_count": null,
   "metadata": {},
   "outputs": [],
   "source": [
    "from scipy.special import erf\n",
    "def calculate_error_prob(sigma2):\n",
    "    return 0.5+0.5*erf(-1/np.sqrt(2*sigma2))\n",
    "\n",
    "calculate_error_prob(1)"
   ]
  },
  {
   "cell_type": "code",
   "execution_count": null,
   "metadata": {},
   "outputs": [],
   "source": [
    "from comsys import ComSys"
   ]
  },
  {
   "cell_type": "code",
   "execution_count": null,
   "metadata": {},
   "outputs": [],
   "source": [
    "import random\n",
    "av=[i for i in range(10)]\n",
    "random.randint(0,0)"
   ]
  },
  {
   "cell_type": "code",
   "execution_count": null,
   "metadata": {},
   "outputs": [],
   "source": [
    "j"
   ]
  },
  {
   "cell_type": "code",
   "execution_count": null,
   "metadata": {},
   "outputs": [],
   "source": [
    "#probabilidade de erro no canal gaussiano é P(x<-1)\n"
   ]
  },
  {
   "cell_type": "code",
   "execution_count": null,
   "metadata": {},
   "outputs": [],
   "source": []
  },
  {
   "cell_type": "code",
   "execution_count": null,
   "metadata": {},
   "outputs": [],
   "source": [
    "calculate_error_prob(0.25)"
   ]
  },
  {
   "cell_type": "code",
   "execution_count": null,
   "metadata": {},
   "outputs": [],
   "source": [
    "len(x.shape)"
   ]
  },
  {
   "cell_type": "code",
   "execution_count": null,
   "metadata": {},
   "outputs": [],
   "source": [
    "V_to_C=np.zeros(g.matrix.shape)\n",
    "C_to_V=np.zeros(g.matrix.shape)\n",
    "\n",
    "    #for m in range(g.M):\n",
    "    #    V_to_C[m,n]=llr[n]+B*g.matrix[m,n]-C_to_V[m,n]"
   ]
  },
  {
   "cell_type": "code",
   "execution_count": null,
   "metadata": {},
   "outputs": [],
   "source": []
  },
  {
   "cell_type": "code",
   "execution_count": null,
   "metadata": {},
   "outputs": [],
   "source": [
    "index_list=np.argwhere(g.matrix[:,0])\n",
    "g.matrix[index_list,0]"
   ]
  },
  {
   "cell_type": "code",
   "execution_count": null,
   "metadata": {},
   "outputs": [],
   "source": [
    "\n",
    "V_to_C = (llr + np.dot(C_to_V.T,g.matrix)).T*g.matrix - C_to_V"
   ]
  },
  {
   "cell_type": "code",
   "execution_count": null,
   "metadata": {},
   "outputs": [],
   "source": [
    "#llr+np.dot(C_to_V.T,g.matrix)).T*g.matrix[0][:,None]-C_to_V[0]"
   ]
  },
  {
   "cell_type": "code",
   "execution_count": null,
   "metadata": {},
   "outputs": [],
   "source": [
    "from comsys import ComSys\n",
    "x=np.zeros(14)\n",
    "sys=ComSys(gc,g)\n",
    "sys(x)"
   ]
  },
  {
   "cell_type": "code",
   "execution_count": null,
   "metadata": {},
   "outputs": [],
   "source": [
    "np.sum(g.matrix,axis=0).shape"
   ]
  },
  {
   "cell_type": "code",
   "execution_count": null,
   "metadata": {},
   "outputs": [],
   "source": [
    "import random\n",
    "N=14\n",
    "dv=3\n",
    "dc=7\n",
    "M=(N*dv)//dc\n",
    "matrix=np.zeros((M,N))\n",
    "count=np.zeros(M)\n",
    "available=np.ones(M)\n",
    "for i in range(N):\n",
    "    x=np.copy(available)\n",
    "    for c in range(dv):\n",
    "        indexes=np.argwhere(x).flatten()\n",
    "        if len(indexes)!=0:\n",
    "            index=indexes[random.randint(0,len(indexes)-1)]\n",
    "            matrix[index,i]=1\n",
    "            x[index]=0\n",
    "            count[index]+=1\n",
    "            if(count[index]==dc):\n",
    "                available[index]=0\n",
    "        else:\n",
    "            while True:\n",
    "                index=random.randint(0,M-1)\n",
    "                if matrix[index,i]==0:\n",
    "                    matrix[index,i]=1\n",
    "                    break"
   ]
  },
  {
   "cell_type": "code",
   "execution_count": null,
   "metadata": {},
   "outputs": [],
   "source": [
    "for i in matrix:\n",
    "    print(len(np.argwhere(i)))"
   ]
  },
  {
   "cell_type": "code",
   "execution_count": null,
   "metadata": {},
   "outputs": [],
   "source": []
  }
 ],
 "metadata": {
  "kernelspec": {
   "display_name": "ces30",
   "language": "python",
   "name": "python3"
  },
  "language_info": {
   "codemirror_mode": {
    "name": "ipython",
    "version": 3
   },
   "file_extension": ".py",
   "mimetype": "text/x-python",
   "name": "python",
   "nbconvert_exporter": "python",
   "pygments_lexer": "ipython3",
   "version": "3.10.12"
  }
 },
 "nbformat": 4,
 "nbformat_minor": 2
}
